{
 "cells": [
  {
   "cell_type": "markdown",
   "metadata": {},
   "source": [
    "# パーセプトロン\n",
    "- AND\n",
    "- OR\n",
    "- NAND\n",
    "- NOR"
   ]
  },
  {
   "cell_type": "code",
   "execution_count": 20,
   "metadata": {},
   "outputs": [],
   "source": [
    "import numpy as np\n",
    "import pandas as pd"
   ]
  },
  {
   "cell_type": "code",
   "execution_count": 21,
   "metadata": {},
   "outputs": [],
   "source": [
    "def AND(x1, x2):\n",
    "    x = np.array([x1, x2])\n",
    "    w = np.array([0.5, 0.5])\n",
    "    b = -0.7\n",
    "    tmp = np.sum(x*w)+b\n",
    "    if tmp <= 0:\n",
    "        return 0\n",
    "    else:\n",
    "        return 1\n",
    "    \n",
    "def OR(x1, x2):\n",
    "    x = np.array([x1, x2])\n",
    "    w = np.array([0.5, 0.5])\n",
    "    b = -0.2\n",
    "    tmp = np.sum(x*w)+b\n",
    "    if tmp <= 0:\n",
    "        return 0\n",
    "    else:\n",
    "        return 1\n",
    "\n",
    "def NAND(x1, x2):\n",
    "    x = np.array([x1, x2])\n",
    "    w = np.array([-0.5, -0.5])\n",
    "    b = 0.7\n",
    "    tmp = np.sum(x*w)+b\n",
    "    if tmp <= 0:\n",
    "        return 0\n",
    "    else:\n",
    "        return 1\n",
    "    \n",
    "def NOR(x1, x2):\n",
    "    x = np.array([x1, x2])\n",
    "    w = np.array([-0.5, -0.5])\n",
    "    b = 0.2\n",
    "    tmp = np.sum(x*w)+b\n",
    "    if tmp <= 0:\n",
    "        return 0\n",
    "    else:\n",
    "        return 1"
   ]
  },
  {
   "cell_type": "code",
   "execution_count": 22,
   "metadata": {},
   "outputs": [
    {
     "name": "stdout",
     "output_type": "stream",
     "text": [
      "AND  : [0, 0, 0, 1]\n",
      "OR   : [0, 1, 1, 1]\n",
      "NAND : [1, 1, 1, 0]\n",
      "NOR  : [1, 0, 0, 0]\n"
     ]
    }
   ],
   "source": [
    "ans_and  = list()\n",
    "ans_or   = list()\n",
    "ans_nand = list()\n",
    "ans_nor  = list()\n",
    "\n",
    "x1 = np.array([0, 1])\n",
    "x2 = np.array([0, 1])\n",
    "\n",
    "for i in x1:\n",
    "    for j in x2:\n",
    "        ans_and.append(AND(x1[i], x2[j]))\n",
    "        ans_or.append(OR(x1[i], x2[j]))\n",
    "        ans_nand.append(NAND(x1[i], x2[j]))\n",
    "        ans_nor.append(NOR(x1[i], x2[j]))\n",
    "\n",
    "print(\"AND  : {}\".format(ans_and))\n",
    "print(\"OR   : {}\".format(ans_or))\n",
    "print(\"NAND : {}\".format(ans_nand))\n",
    "print(\"NOR  : {}\".format(ans_nor))"
   ]
  },
  {
   "cell_type": "markdown",
   "metadata": {},
   "source": [
    "# 多層パーセプトロン\n",
    "- XOR"
   ]
  },
  {
   "cell_type": "code",
   "execution_count": 24,
   "metadata": {},
   "outputs": [
    {
     "name": "stdout",
     "output_type": "stream",
     "text": [
      "XOR  : [0, 1, 1, 0]\n"
     ]
    }
   ],
   "source": [
    "def XOR(x1, x2):\n",
    "    s1 = NAND(x1, x2)\n",
    "    s2 = OR(x1, x2)\n",
    "    y  = AND(s1, s2)\n",
    "    return y\n",
    "\n",
    "ans_xor  = list()\n",
    "for i in x1:\n",
    "    for j in x2:\n",
    "        ans_xor.append(XOR(x1[i], x2[j]))\n",
    "\n",
    "print(\"XOR  : {}\".format(ans_xor))"
   ]
  }
 ],
 "metadata": {
  "kernelspec": {
   "display_name": "Python 3",
   "language": "python",
   "name": "python3"
  },
  "language_info": {
   "codemirror_mode": {
    "name": "ipython",
    "version": 3
   },
   "file_extension": ".py",
   "mimetype": "text/x-python",
   "name": "python",
   "nbconvert_exporter": "python",
   "pygments_lexer": "ipython3",
   "version": "3.6.8"
  }
 },
 "nbformat": 4,
 "nbformat_minor": 4
}
